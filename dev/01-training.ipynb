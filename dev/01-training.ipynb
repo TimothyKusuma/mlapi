{
 "cells": [
  {
   "cell_type": "code",
   "execution_count": 5,
   "id": "71ac676c-fbb2-4180-804a-825c20cd413b",
   "metadata": {
    "tags": []
   },
   "outputs": [
    {
     "name": "stdout",
     "output_type": "stream",
     "text": [
      "Collecting Flask (from -r ../app/requirements.txt (line 1))\n",
      "  Downloading Flask-2.3.2-py3-none-any.whl (96 kB)\n",
      "                                              0.0/96.9 kB ? eta -:--:--\n",
      "     ----                                     10.2/96.9 kB ? eta -:--:--\n",
      "     ------------------------               61.4/96.9 kB 812.7 kB/s eta 0:00:01\n",
      "     -------------------------------------- 96.9/96.9 kB 794.7 kB/s eta 0:00:00\n",
      "Requirement already satisfied: pandas in c:\\users\\timot\\appdata\\roaming\\python\\python311\\site-packages (from -r ../app/requirements.txt (line 2)) (2.0.1)\n",
      "Collecting scikit-learn (from -r ../app/requirements.txt (line 3))\n",
      "  Downloading scikit_learn-1.2.2-cp311-cp311-win_amd64.whl (8.3 MB)\n",
      "                                              0.0/8.3 MB ? eta -:--:--\n",
      "                                              0.2/8.3 MB 4.6 MB/s eta 0:00:02\n",
      "                                              0.2/8.3 MB 5.9 MB/s eta 0:00:02\n",
      "     -                                        0.3/8.3 MB 2.8 MB/s eta 0:00:03\n",
      "     -                                        0.4/8.3 MB 2.4 MB/s eta 0:00:04\n",
      "     -                                        0.4/8.3 MB 2.4 MB/s eta 0:00:04\n",
      "     --                                       0.5/8.3 MB 2.0 MB/s eta 0:00:04\n",
      "     --                                       0.6/8.3 MB 2.1 MB/s eta 0:00:04\n",
      "     ---                                      0.7/8.3 MB 2.0 MB/s eta 0:00:04\n",
      "     ---                                      0.8/8.3 MB 2.0 MB/s eta 0:00:04\n",
      "     ---                                      0.8/8.3 MB 2.0 MB/s eta 0:00:04\n",
      "     ----                                     0.9/8.3 MB 1.9 MB/s eta 0:00:04\n",
      "     ----                                     1.0/8.3 MB 1.8 MB/s eta 0:00:05\n",
      "     -----                                    1.1/8.3 MB 1.8 MB/s eta 0:00:05\n",
      "     -----                                    1.2/8.3 MB 1.8 MB/s eta 0:00:04\n",
      "     -----                                    1.2/8.3 MB 1.8 MB/s eta 0:00:04\n",
      "     ------                                   1.4/8.3 MB 1.8 MB/s eta 0:00:04\n",
      "     ------                                   1.4/8.3 MB 1.8 MB/s eta 0:00:04\n",
      "     ------                                   1.4/8.3 MB 1.8 MB/s eta 0:00:04\n",
      "     -------                                  1.6/8.3 MB 1.8 MB/s eta 0:00:04\n",
      "     -------                                  1.6/8.3 MB 1.8 MB/s eta 0:00:04\n",
      "     --------                                 1.8/8.3 MB 1.9 MB/s eta 0:00:04\n",
      "     --------                                 1.8/8.3 MB 1.8 MB/s eta 0:00:04\n",
      "     --------                                 1.8/8.3 MB 1.8 MB/s eta 0:00:04\n",
      "     ---------                                2.0/8.3 MB 1.8 MB/s eta 0:00:04\n",
      "     ---------                                2.0/8.3 MB 1.8 MB/s eta 0:00:04\n",
      "     ----------                               2.2/8.3 MB 1.8 MB/s eta 0:00:04\n",
      "     ----------                               2.2/8.3 MB 1.8 MB/s eta 0:00:04\n",
      "     ----------                               2.2/8.3 MB 1.8 MB/s eta 0:00:04\n",
      "     -----------                              2.4/8.3 MB 1.8 MB/s eta 0:00:04\n",
      "     -----------                              2.4/8.3 MB 1.8 MB/s eta 0:00:04\n",
      "     ------------                             2.6/8.3 MB 1.8 MB/s eta 0:00:04\n",
      "     -------------                            2.7/8.3 MB 1.8 MB/s eta 0:00:04\n",
      "     -------------                            2.7/8.3 MB 1.8 MB/s eta 0:00:04\n",
      "     --------------                           2.9/8.3 MB 1.9 MB/s eta 0:00:03\n",
      "     --------------                           3.0/8.3 MB 1.9 MB/s eta 0:00:03\n",
      "     ---------------                          3.1/8.3 MB 1.9 MB/s eta 0:00:03\n",
      "     ----------------                         3.3/8.3 MB 1.9 MB/s eta 0:00:03\n",
      "     ----------------                         3.3/8.3 MB 1.9 MB/s eta 0:00:03\n",
      "     -----------------                        3.6/8.3 MB 2.0 MB/s eta 0:00:03\n",
      "     -----------------                        3.7/8.3 MB 2.0 MB/s eta 0:00:03\n",
      "     ------------------                       3.7/8.3 MB 2.0 MB/s eta 0:00:03\n",
      "     -------------------                      4.0/8.3 MB 2.1 MB/s eta 0:00:03\n",
      "     -------------------                      4.1/8.3 MB 2.1 MB/s eta 0:00:03\n",
      "     --------------------                     4.2/8.3 MB 2.1 MB/s eta 0:00:02\n",
      "     ---------------------                    4.4/8.3 MB 2.1 MB/s eta 0:00:02\n",
      "     ---------------------                    4.4/8.3 MB 2.1 MB/s eta 0:00:02\n",
      "     ----------------------                   4.6/8.3 MB 2.1 MB/s eta 0:00:02\n",
      "     ----------------------                   4.7/8.3 MB 2.1 MB/s eta 0:00:02\n",
      "     -----------------------                  4.8/8.3 MB 2.1 MB/s eta 0:00:02\n",
      "     ------------------------                 5.0/8.3 MB 2.1 MB/s eta 0:00:02\n",
      "     ------------------------                 5.0/8.3 MB 2.1 MB/s eta 0:00:02\n",
      "     ------------------------                 5.2/8.3 MB 2.1 MB/s eta 0:00:02\n",
      "     -------------------------                5.4/8.3 MB 2.2 MB/s eta 0:00:02\n",
      "     --------------------------               5.4/8.3 MB 2.2 MB/s eta 0:00:02\n",
      "     ---------------------------              5.7/8.3 MB 2.2 MB/s eta 0:00:02\n",
      "     ---------------------------              5.7/8.3 MB 2.2 MB/s eta 0:00:02\n",
      "     ----------------------------             6.0/8.3 MB 2.2 MB/s eta 0:00:02\n",
      "     -----------------------------            6.1/8.3 MB 2.3 MB/s eta 0:00:01\n",
      "     -----------------------------            6.1/8.3 MB 2.2 MB/s eta 0:00:01\n",
      "     ------------------------------           6.4/8.3 MB 2.3 MB/s eta 0:00:01\n",
      "     ------------------------------           6.4/8.3 MB 2.3 MB/s eta 0:00:01\n",
      "     --------------------------------         6.6/8.3 MB 2.3 MB/s eta 0:00:01\n",
      "     ---------------------------------        6.9/8.3 MB 2.3 MB/s eta 0:00:01\n",
      "     ---------------------------------        6.9/8.3 MB 2.3 MB/s eta 0:00:01\n",
      "     ----------------------------------       7.1/8.3 MB 2.4 MB/s eta 0:00:01\n",
      "     -----------------------------------      7.2/8.3 MB 2.4 MB/s eta 0:00:01\n",
      "     -----------------------------------      7.4/8.3 MB 2.4 MB/s eta 0:00:01\n",
      "     ------------------------------------     7.6/8.3 MB 2.4 MB/s eta 0:00:01\n",
      "     ------------------------------------     7.6/8.3 MB 2.4 MB/s eta 0:00:01\n",
      "     -------------------------------------    7.7/8.3 MB 2.4 MB/s eta 0:00:01\n",
      "     -------------------------------------    7.7/8.3 MB 2.3 MB/s eta 0:00:01\n",
      "     -------------------------------------    7.8/8.3 MB 2.3 MB/s eta 0:00:01\n",
      "     --------------------------------------   8.0/8.3 MB 2.3 MB/s eta 0:00:01\n",
      "     --------------------------------------   8.0/8.3 MB 2.3 MB/s eta 0:00:01\n",
      "     ---------------------------------------  8.3/8.3 MB 2.4 MB/s eta 0:00:01\n",
      "     ---------------------------------------- 8.3/8.3 MB 2.3 MB/s eta 0:00:00\n",
      "Collecting joblib (from -r ../app/requirements.txt (line 4))\n",
      "  Using cached joblib-1.2.0-py3-none-any.whl (297 kB)\n",
      "Requirement already satisfied: sklearn in c:\\python311\\lib\\site-packages (from -r ../app/requirements.txt (line 5)) (0.0.post5)\n",
      "Collecting Werkzeug>=2.3.3 (from Flask->-r ../app/requirements.txt (line 1))\n",
      "  Downloading Werkzeug-2.3.4-py3-none-any.whl (242 kB)\n",
      "                                              0.0/242.5 kB ? eta -:--:--\n",
      "     ------                                  41.0/242.5 kB 2.0 MB/s eta 0:00:01\n",
      "     ------------------------------------   235.5/242.5 kB 2.4 MB/s eta 0:00:01\n",
      "     -------------------------------------- 242.5/242.5 kB 2.5 MB/s eta 0:00:00\n",
      "Requirement already satisfied: Jinja2>=3.1.2 in c:\\users\\timot\\appdata\\roaming\\python\\python311\\site-packages (from Flask->-r ../app/requirements.txt (line 1)) (3.1.2)\n",
      "Collecting itsdangerous>=2.1.2 (from Flask->-r ../app/requirements.txt (line 1))\n",
      "  Downloading itsdangerous-2.1.2-py3-none-any.whl (15 kB)\n",
      "Requirement already satisfied: click>=8.1.3 in c:\\users\\timot\\appdata\\roaming\\python\\python311\\site-packages (from Flask->-r ../app/requirements.txt (line 1)) (8.1.3)\n",
      "Requirement already satisfied: blinker>=1.6.2 in c:\\users\\timot\\appdata\\roaming\\python\\python311\\site-packages (from Flask->-r ../app/requirements.txt (line 1)) (1.6.2)\n",
      "Requirement already satisfied: python-dateutil>=2.8.2 in c:\\python311\\lib\\site-packages (from pandas->-r ../app/requirements.txt (line 2)) (2.8.2)\n",
      "Requirement already satisfied: pytz>=2020.1 in c:\\python311\\lib\\site-packages (from pandas->-r ../app/requirements.txt (line 2)) (2023.3)\n",
      "Requirement already satisfied: tzdata>=2022.1 in c:\\python311\\lib\\site-packages (from pandas->-r ../app/requirements.txt (line 2)) (2023.3)\n",
      "Requirement already satisfied: numpy>=1.21.0 in c:\\python311\\lib\\site-packages (from pandas->-r ../app/requirements.txt (line 2)) (1.24.3)\n",
      "Requirement already satisfied: scipy>=1.3.2 in c:\\python311\\lib\\site-packages (from scikit-learn->-r ../app/requirements.txt (line 3)) (1.10.1)\n",
      "Collecting threadpoolctl>=2.0.0 (from scikit-learn->-r ../app/requirements.txt (line 3))\n",
      "  Downloading threadpoolctl-3.1.0-py3-none-any.whl (14 kB)\n",
      "Requirement already satisfied: colorama in c:\\users\\timot\\appdata\\roaming\\python\\python311\\site-packages (from click>=8.1.3->Flask->-r ../app/requirements.txt (line 1)) (0.4.6)\n",
      "Requirement already satisfied: MarkupSafe>=2.0 in c:\\users\\timot\\appdata\\roaming\\python\\python311\\site-packages (from Jinja2>=3.1.2->Flask->-r ../app/requirements.txt (line 1)) (2.1.2)\n",
      "Requirement already satisfied: six>=1.5 in c:\\python311\\lib\\site-packages (from python-dateutil>=2.8.2->pandas->-r ../app/requirements.txt (line 2)) (1.16.0)\n",
      "Installing collected packages: Werkzeug, threadpoolctl, joblib, itsdangerous, scikit-learn, Flask\n",
      "Note: you may need to restart the kernel to use updated packages.\n"
     ]
    },
    {
     "name": "stderr",
     "output_type": "stream",
     "text": [
      "  WARNING: Failed to write executable - trying to use .deleteme logic\n",
      "ERROR: Could not install packages due to an OSError: [WinError 2] The system cannot find the file specified: 'c:\\\\Python311\\\\Scripts\\\\flask.exe' -> 'c:\\\\Python311\\\\Scripts\\\\flask.exe.deleteme'\n",
      "\n"
     ]
    }
   ],
   "source": [
    "%pip install -r \"../app/requirements.txt\""
   ]
  },
  {
   "cell_type": "code",
   "execution_count": 6,
   "id": "d9b5b8bd-5b3d-4735-9e8c-9f1235607fb0",
   "metadata": {
    "tags": []
   },
   "outputs": [],
   "source": [
    "import pandas as pd\n",
    "from sklearn.model_selection import train_test_split\n",
    "from sklearn.impute import SimpleImputer\n",
    "from sklearn.compose import ColumnTransformer\n",
    "from sklearn.ensemble import RandomForestClassifier\n",
    "from sklearn.pipeline import Pipeline\n",
    "from sklearn import metrics\n",
    "import joblib"
   ]
  },
  {
   "cell_type": "code",
   "execution_count": 7,
   "id": "fb3dde50-c21d-44a8-86cf-a157af5495c7",
   "metadata": {
    "tags": []
   },
   "outputs": [],
   "source": [
    "data = pd.read_csv('iris.csv')"
   ]
  },
  {
   "cell_type": "code",
   "execution_count": 8,
   "id": "eeaa69e5-e253-424b-8587-b70a18f7b9de",
   "metadata": {
    "tags": []
   },
   "outputs": [],
   "source": [
    "y = data['species']\n",
    "X = data.drop(columns=['species'])"
   ]
  },
  {
   "cell_type": "code",
   "execution_count": 9,
   "id": "c84f86c9-07d1-4357-a3fb-65d6308264d2",
   "metadata": {
    "tags": []
   },
   "outputs": [],
   "source": [
    "X_train, X_test, y_train, y_test = train_test_split(X, y, test_size=0.3, random_state=23)"
   ]
  },
  {
   "cell_type": "code",
   "execution_count": 10,
   "id": "f4ce90eb-d1b0-4ef5-bb6e-d53e92b5f2ea",
   "metadata": {
    "tags": []
   },
   "outputs": [],
   "source": [
    "column_names = list(X_train.columns)"
   ]
  },
  {
   "cell_type": "code",
   "execution_count": 11,
   "id": "839f8e0f-5160-465f-a1d2-b9dd19749b64",
   "metadata": {
    "tags": []
   },
   "outputs": [],
   "source": [
    "# median of column for missing values\n",
    "imp = SimpleImputer(strategy='median')\n",
    "ct = ColumnTransformer([('imputer', imp, column_names)])"
   ]
  },
  {
   "cell_type": "code",
   "execution_count": 12,
   "id": "929d3263-12bc-49c2-85bd-3c84ea7fbe3d",
   "metadata": {
    "tags": []
   },
   "outputs": [],
   "source": [
    "clf = RandomForestClassifier(random_state=23)"
   ]
  },
  {
   "cell_type": "code",
   "execution_count": 13,
   "id": "be84bf01-03ee-41b3-a517-510472c20149",
   "metadata": {},
   "outputs": [],
   "source": [
    "pipe = Pipeline([\n",
    "    ('preprocessor', ct),\n",
    "    ('classifier', clf)]\n",
    ")"
   ]
  },
  {
   "cell_type": "code",
   "execution_count": 14,
   "id": "3a4578ad",
   "metadata": {},
   "outputs": [
    {
     "data": {
      "text/html": [
       "<style>#sk-container-id-1 {color: black;background-color: white;}#sk-container-id-1 pre{padding: 0;}#sk-container-id-1 div.sk-toggleable {background-color: white;}#sk-container-id-1 label.sk-toggleable__label {cursor: pointer;display: block;width: 100%;margin-bottom: 0;padding: 0.3em;box-sizing: border-box;text-align: center;}#sk-container-id-1 label.sk-toggleable__label-arrow:before {content: \"▸\";float: left;margin-right: 0.25em;color: #696969;}#sk-container-id-1 label.sk-toggleable__label-arrow:hover:before {color: black;}#sk-container-id-1 div.sk-estimator:hover label.sk-toggleable__label-arrow:before {color: black;}#sk-container-id-1 div.sk-toggleable__content {max-height: 0;max-width: 0;overflow: hidden;text-align: left;background-color: #f0f8ff;}#sk-container-id-1 div.sk-toggleable__content pre {margin: 0.2em;color: black;border-radius: 0.25em;background-color: #f0f8ff;}#sk-container-id-1 input.sk-toggleable__control:checked~div.sk-toggleable__content {max-height: 200px;max-width: 100%;overflow: auto;}#sk-container-id-1 input.sk-toggleable__control:checked~label.sk-toggleable__label-arrow:before {content: \"▾\";}#sk-container-id-1 div.sk-estimator input.sk-toggleable__control:checked~label.sk-toggleable__label {background-color: #d4ebff;}#sk-container-id-1 div.sk-label input.sk-toggleable__control:checked~label.sk-toggleable__label {background-color: #d4ebff;}#sk-container-id-1 input.sk-hidden--visually {border: 0;clip: rect(1px 1px 1px 1px);clip: rect(1px, 1px, 1px, 1px);height: 1px;margin: -1px;overflow: hidden;padding: 0;position: absolute;width: 1px;}#sk-container-id-1 div.sk-estimator {font-family: monospace;background-color: #f0f8ff;border: 1px dotted black;border-radius: 0.25em;box-sizing: border-box;margin-bottom: 0.5em;}#sk-container-id-1 div.sk-estimator:hover {background-color: #d4ebff;}#sk-container-id-1 div.sk-parallel-item::after {content: \"\";width: 100%;border-bottom: 1px solid gray;flex-grow: 1;}#sk-container-id-1 div.sk-label:hover label.sk-toggleable__label {background-color: #d4ebff;}#sk-container-id-1 div.sk-serial::before {content: \"\";position: absolute;border-left: 1px solid gray;box-sizing: border-box;top: 0;bottom: 0;left: 50%;z-index: 0;}#sk-container-id-1 div.sk-serial {display: flex;flex-direction: column;align-items: center;background-color: white;padding-right: 0.2em;padding-left: 0.2em;position: relative;}#sk-container-id-1 div.sk-item {position: relative;z-index: 1;}#sk-container-id-1 div.sk-parallel {display: flex;align-items: stretch;justify-content: center;background-color: white;position: relative;}#sk-container-id-1 div.sk-item::before, #sk-container-id-1 div.sk-parallel-item::before {content: \"\";position: absolute;border-left: 1px solid gray;box-sizing: border-box;top: 0;bottom: 0;left: 50%;z-index: -1;}#sk-container-id-1 div.sk-parallel-item {display: flex;flex-direction: column;z-index: 1;position: relative;background-color: white;}#sk-container-id-1 div.sk-parallel-item:first-child::after {align-self: flex-end;width: 50%;}#sk-container-id-1 div.sk-parallel-item:last-child::after {align-self: flex-start;width: 50%;}#sk-container-id-1 div.sk-parallel-item:only-child::after {width: 0;}#sk-container-id-1 div.sk-dashed-wrapped {border: 1px dashed gray;margin: 0 0.4em 0.5em 0.4em;box-sizing: border-box;padding-bottom: 0.4em;background-color: white;}#sk-container-id-1 div.sk-label label {font-family: monospace;font-weight: bold;display: inline-block;line-height: 1.2em;}#sk-container-id-1 div.sk-label-container {text-align: center;}#sk-container-id-1 div.sk-container {/* jupyter's `normalize.less` sets `[hidden] { display: none; }` but bootstrap.min.css set `[hidden] { display: none !important; }` so we also need the `!important` here to be able to override the default hidden behavior on the sphinx rendered scikit-learn.org. See: https://github.com/scikit-learn/scikit-learn/issues/21755 */display: inline-block !important;position: relative;}#sk-container-id-1 div.sk-text-repr-fallback {display: none;}</style><div id=\"sk-container-id-1\" class=\"sk-top-container\"><div class=\"sk-text-repr-fallback\"><pre>Pipeline(steps=[(&#x27;preprocessor&#x27;,\n",
       "                 ColumnTransformer(transformers=[(&#x27;imputer&#x27;,\n",
       "                                                  SimpleImputer(strategy=&#x27;median&#x27;),\n",
       "                                                  [&#x27;sepal_length&#x27;,\n",
       "                                                   &#x27;sepal_width&#x27;,\n",
       "                                                   &#x27;petal_length&#x27;,\n",
       "                                                   &#x27;petal_width&#x27;])])),\n",
       "                (&#x27;classifier&#x27;, RandomForestClassifier(random_state=23))])</pre><b>In a Jupyter environment, please rerun this cell to show the HTML representation or trust the notebook. <br />On GitHub, the HTML representation is unable to render, please try loading this page with nbviewer.org.</b></div><div class=\"sk-container\" hidden><div class=\"sk-item sk-dashed-wrapped\"><div class=\"sk-label-container\"><div class=\"sk-label sk-toggleable\"><input class=\"sk-toggleable__control sk-hidden--visually\" id=\"sk-estimator-id-1\" type=\"checkbox\" ><label for=\"sk-estimator-id-1\" class=\"sk-toggleable__label sk-toggleable__label-arrow\">Pipeline</label><div class=\"sk-toggleable__content\"><pre>Pipeline(steps=[(&#x27;preprocessor&#x27;,\n",
       "                 ColumnTransformer(transformers=[(&#x27;imputer&#x27;,\n",
       "                                                  SimpleImputer(strategy=&#x27;median&#x27;),\n",
       "                                                  [&#x27;sepal_length&#x27;,\n",
       "                                                   &#x27;sepal_width&#x27;,\n",
       "                                                   &#x27;petal_length&#x27;,\n",
       "                                                   &#x27;petal_width&#x27;])])),\n",
       "                (&#x27;classifier&#x27;, RandomForestClassifier(random_state=23))])</pre></div></div></div><div class=\"sk-serial\"><div class=\"sk-item sk-dashed-wrapped\"><div class=\"sk-label-container\"><div class=\"sk-label sk-toggleable\"><input class=\"sk-toggleable__control sk-hidden--visually\" id=\"sk-estimator-id-2\" type=\"checkbox\" ><label for=\"sk-estimator-id-2\" class=\"sk-toggleable__label sk-toggleable__label-arrow\">preprocessor: ColumnTransformer</label><div class=\"sk-toggleable__content\"><pre>ColumnTransformer(transformers=[(&#x27;imputer&#x27;, SimpleImputer(strategy=&#x27;median&#x27;),\n",
       "                                 [&#x27;sepal_length&#x27;, &#x27;sepal_width&#x27;, &#x27;petal_length&#x27;,\n",
       "                                  &#x27;petal_width&#x27;])])</pre></div></div></div><div class=\"sk-parallel\"><div class=\"sk-parallel-item\"><div class=\"sk-item\"><div class=\"sk-label-container\"><div class=\"sk-label sk-toggleable\"><input class=\"sk-toggleable__control sk-hidden--visually\" id=\"sk-estimator-id-3\" type=\"checkbox\" ><label for=\"sk-estimator-id-3\" class=\"sk-toggleable__label sk-toggleable__label-arrow\">imputer</label><div class=\"sk-toggleable__content\"><pre>[&#x27;sepal_length&#x27;, &#x27;sepal_width&#x27;, &#x27;petal_length&#x27;, &#x27;petal_width&#x27;]</pre></div></div></div><div class=\"sk-serial\"><div class=\"sk-item\"><div class=\"sk-estimator sk-toggleable\"><input class=\"sk-toggleable__control sk-hidden--visually\" id=\"sk-estimator-id-4\" type=\"checkbox\" ><label for=\"sk-estimator-id-4\" class=\"sk-toggleable__label sk-toggleable__label-arrow\">SimpleImputer</label><div class=\"sk-toggleable__content\"><pre>SimpleImputer(strategy=&#x27;median&#x27;)</pre></div></div></div></div></div></div></div></div><div class=\"sk-item\"><div class=\"sk-estimator sk-toggleable\"><input class=\"sk-toggleable__control sk-hidden--visually\" id=\"sk-estimator-id-5\" type=\"checkbox\" ><label for=\"sk-estimator-id-5\" class=\"sk-toggleable__label sk-toggleable__label-arrow\">RandomForestClassifier</label><div class=\"sk-toggleable__content\"><pre>RandomForestClassifier(random_state=23)</pre></div></div></div></div></div></div></div>"
      ],
      "text/plain": [
       "Pipeline(steps=[('preprocessor',\n",
       "                 ColumnTransformer(transformers=[('imputer',\n",
       "                                                  SimpleImputer(strategy='median'),\n",
       "                                                  ['sepal_length',\n",
       "                                                   'sepal_width',\n",
       "                                                   'petal_length',\n",
       "                                                   'petal_width'])])),\n",
       "                ('classifier', RandomForestClassifier(random_state=23))])"
      ]
     },
     "execution_count": 14,
     "metadata": {},
     "output_type": "execute_result"
    }
   ],
   "source": [
    "pipe.fit(X_train, y_train)"
   ]
  },
  {
   "cell_type": "code",
   "execution_count": 15,
   "id": "1a0ea108",
   "metadata": {},
   "outputs": [
    {
     "name": "stdout",
     "output_type": "stream",
     "text": [
      "                 precision    recall  f1-score   support\n",
      "\n",
      "    Iris-setosa       1.00      1.00      1.00        18\n",
      "Iris-versicolor       0.93      1.00      0.97        14\n",
      " Iris-virginica       1.00      0.92      0.96        13\n",
      "\n",
      "       accuracy                           0.98        45\n",
      "      macro avg       0.98      0.97      0.98        45\n",
      "   weighted avg       0.98      0.98      0.98        45\n",
      "\n"
     ]
    }
   ],
   "source": [
    "y_pred = pipe.predict(X_test)\n",
    "print(metrics.classification_report(y_test, y_pred))"
   ]
  },
  {
   "cell_type": "code",
   "execution_count": 16,
   "id": "01fced34",
   "metadata": {},
   "outputs": [
    {
     "data": {
      "text/plain": [
       "['../app/iris.mdl']"
      ]
     },
     "execution_count": 16,
     "metadata": {},
     "output_type": "execute_result"
    }
   ],
   "source": [
    "joblib.dump(pipe, '../app/iris.mdl')"
   ]
  }
 ],
 "metadata": {
  "kernelspec": {
   "display_name": "Python 3 (ipykernel)",
   "language": "python",
   "name": "python3"
  },
  "language_info": {
   "codemirror_mode": {
    "name": "ipython",
    "version": 3
   },
   "file_extension": ".py",
   "mimetype": "text/x-python",
   "name": "python",
   "nbconvert_exporter": "python",
   "pygments_lexer": "ipython3",
   "version": "3.11.3"
  }
 },
 "nbformat": 4,
 "nbformat_minor": 5
}
