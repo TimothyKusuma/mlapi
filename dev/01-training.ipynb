{
 "cells": [
  {
   "cell_type": "code",
   "execution_count": 1,
   "id": "71ac676c-fbb2-4180-804a-825c20cd413b",
   "metadata": {
    "tags": []
   },
   "outputs": [
    {
     "name": "stdout",
     "output_type": "stream",
     "text": [
      "Requirement already satisfied: Flask in /opt/conda/lib/python3.10/site-packages (from -r /home/jovyan/app/requirements.txt (line 1)) (2.3.2)\n",
      "Requirement already satisfied: pandas in /opt/conda/lib/python3.10/site-packages (from -r /home/jovyan/app/requirements.txt (line 2)) (2.0.1)\n",
      "Requirement already satisfied: scikit-learn in /opt/conda/lib/python3.10/site-packages (from -r /home/jovyan/app/requirements.txt (line 3)) (1.2.2)\n",
      "Requirement already satisfied: joblib in /opt/conda/lib/python3.10/site-packages (from -r /home/jovyan/app/requirements.txt (line 4)) (1.2.0)\n",
      "Requirement already satisfied: Werkzeug>=2.3.3 in /opt/conda/lib/python3.10/site-packages (from Flask->-r /home/jovyan/app/requirements.txt (line 1)) (2.3.4)\n",
      "Requirement already satisfied: Jinja2>=3.1.2 in /opt/conda/lib/python3.10/site-packages (from Flask->-r /home/jovyan/app/requirements.txt (line 1)) (3.1.2)\n",
      "Requirement already satisfied: itsdangerous>=2.1.2 in /opt/conda/lib/python3.10/site-packages (from Flask->-r /home/jovyan/app/requirements.txt (line 1)) (2.1.2)\n",
      "Requirement already satisfied: click>=8.1.3 in /opt/conda/lib/python3.10/site-packages (from Flask->-r /home/jovyan/app/requirements.txt (line 1)) (8.1.3)\n",
      "Requirement already satisfied: blinker>=1.6.2 in /opt/conda/lib/python3.10/site-packages (from Flask->-r /home/jovyan/app/requirements.txt (line 1)) (1.6.2)\n",
      "Requirement already satisfied: python-dateutil>=2.8.2 in /opt/conda/lib/python3.10/site-packages (from pandas->-r /home/jovyan/app/requirements.txt (line 2)) (2.8.2)\n",
      "Requirement already satisfied: pytz>=2020.1 in /opt/conda/lib/python3.10/site-packages (from pandas->-r /home/jovyan/app/requirements.txt (line 2)) (2023.3)\n",
      "Requirement already satisfied: tzdata>=2022.1 in /opt/conda/lib/python3.10/site-packages (from pandas->-r /home/jovyan/app/requirements.txt (line 2)) (2023.3)\n",
      "Requirement already satisfied: numpy>=1.21.0 in /opt/conda/lib/python3.10/site-packages (from pandas->-r /home/jovyan/app/requirements.txt (line 2)) (1.24.3)\n",
      "Requirement already satisfied: scipy>=1.3.2 in /opt/conda/lib/python3.10/site-packages (from scikit-learn->-r /home/jovyan/app/requirements.txt (line 3)) (1.10.1)\n",
      "Requirement already satisfied: threadpoolctl>=2.0.0 in /opt/conda/lib/python3.10/site-packages (from scikit-learn->-r /home/jovyan/app/requirements.txt (line 3)) (3.1.0)\n",
      "Requirement already satisfied: MarkupSafe>=2.0 in /opt/conda/lib/python3.10/site-packages (from Jinja2>=3.1.2->Flask->-r /home/jovyan/app/requirements.txt (line 1)) (2.1.2)\n",
      "Requirement already satisfied: six>=1.5 in /opt/conda/lib/python3.10/site-packages (from python-dateutil>=2.8.2->pandas->-r /home/jovyan/app/requirements.txt (line 2)) (1.16.0)\n",
      "Note: you may need to restart the kernel to use updated packages.\n"
     ]
    }
   ],
   "source": [
    "%pip install -r ~/app/requirements.txt"
   ]
  },
  {
   "cell_type": "code",
   "execution_count": 2,
   "id": "d9b5b8bd-5b3d-4735-9e8c-9f1235607fb0",
   "metadata": {
    "tags": []
   },
   "outputs": [],
   "source": [
    "import pandas as pd\n",
    "from sklearn.model_selection import train_test_split\n",
    "from sklearn.impute import SimpleImputer\n",
    "from sklearn.compose import ColumnTransformer\n",
    "from sklearn.ensemble import RandomForestClassifier\n",
    "from sklearn.pipeline import Pipeline\n",
    "from sklearn import metrics\n",
    "import joblib"
   ]
  },
  {
   "cell_type": "code",
   "execution_count": 3,
   "id": "fb3dde50-c21d-44a8-86cf-a157af5495c7",
   "metadata": {
    "tags": []
   },
   "outputs": [],
   "source": [
    "data = pd.read_csv('iris.csv')"
   ]
  },
  {
   "cell_type": "code",
   "execution_count": 4,
   "id": "eeaa69e5-e253-424b-8587-b70a18f7b9de",
   "metadata": {
    "tags": []
   },
   "outputs": [],
   "source": [
    "y = data['species']\n",
    "X = data.drop(columns=['species'])"
   ]
  },
  {
   "cell_type": "code",
   "execution_count": 5,
   "id": "c84f86c9-07d1-4357-a3fb-65d6308264d2",
   "metadata": {
    "tags": []
   },
   "outputs": [],
   "source": [
    "X_train, X_test, y_train, y_test = train_test_split(X, y, test_size=0.3, random_state=23)"
   ]
  },
  {
   "cell_type": "code",
   "execution_count": 6,
   "id": "f4ce90eb-d1b0-4ef5-bb6e-d53e92b5f2ea",
   "metadata": {
    "tags": []
   },
   "outputs": [],
   "source": [
    "column_names = list(X_train.columns)"
   ]
  },
  {
   "cell_type": "code",
   "execution_count": 13,
   "id": "839f8e0f-5160-465f-a1d2-b9dd19749b64",
   "metadata": {
    "tags": []
   },
   "outputs": [],
   "source": [
    "# median of column for missing values\n",
    "imp = SimpleImputer(strategy='median')\n",
    "ct = ColumnTransformer([('imputer', imp, column_names)])"
   ]
  },
  {
   "cell_type": "code",
   "execution_count": 14,
   "id": "929d3263-12bc-49c2-85bd-3c84ea7fbe3d",
   "metadata": {
    "tags": []
   },
   "outputs": [],
   "source": [
    "clf = RandomForestClassifier(random_state=23)"
   ]
  },
  {
   "cell_type": "code",
   "execution_count": null,
   "id": "be84bf01-03ee-41b3-a517-510472c20149",
   "metadata": {},
   "outputs": [],
   "source": []
  }
 ],
 "metadata": {
  "kernelspec": {
   "display_name": "Python 3 (ipykernel)",
   "language": "python",
   "name": "python3"
  },
  "language_info": {
   "codemirror_mode": {
    "name": "ipython",
    "version": 3
   },
   "file_extension": ".py",
   "mimetype": "text/x-python",
   "name": "python",
   "nbconvert_exporter": "python",
   "pygments_lexer": "ipython3",
   "version": "3.10.11"
  }
 },
 "nbformat": 4,
 "nbformat_minor": 5
}
